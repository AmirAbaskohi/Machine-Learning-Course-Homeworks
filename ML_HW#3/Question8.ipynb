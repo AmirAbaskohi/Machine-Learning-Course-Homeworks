{
 "cells": [
  {
   "cell_type": "markdown",
   "id": "6bba6aff",
   "metadata": {},
   "source": [
    "# Dataset prepratation"
   ]
  },
  {
   "cell_type": "code",
   "execution_count": 9,
   "id": "25ea078b",
   "metadata": {},
   "outputs": [],
   "source": [
    "from PIL import Image\n",
    "\n",
    "def rgb_mean(name, label):\n",
    "    image = Image.open(name)\n",
    "    rChannel = 0\n",
    "    bChannel = 0\n",
    "    gChannel = 0\n",
    "    count = 0\n",
    "    for x in range(image.width):\n",
    "        for y in range(image.height): \n",
    "            count += 1\n",
    "            rChannel += image.getpixel((x,y))[0]\n",
    "            bChannel += image.getpixel((x,y))[2]\n",
    "    rChannel = rChannel / count\n",
    "    bChannel = bChannel / count\n",
    "    \n",
    "    return { \"red\": rChannel, \"blue\": bChannel, \"label\": label }"
   ]
  },
  {
   "cell_type": "code",
   "execution_count": 10,
   "id": "ba4017a3",
   "metadata": {
    "scrolled": false
   },
   "outputs": [],
   "source": [
    "PATH = './Q9_Dataset/Images/'\n",
    "\n",
    "dataset = [rgb_mean(PATH + f\"c{i}.jpg\", 0) for i in range(1, 66)]\n",
    "dataset.extend(rgb_mean(PATH + f\"m{i}.jpg\", 1) for i in range(1, 58))"
   ]
  },
  {
   "cell_type": "code",
   "execution_count": 13,
   "id": "135d9e26",
   "metadata": {},
   "outputs": [],
   "source": [
    "import pandas as pd\n",
    "\n",
    "dataset = pd.DataFrame(dataset)"
   ]
  },
  {
   "cell_type": "code",
   "execution_count": 14,
   "id": "15164995",
   "metadata": {},
   "outputs": [
    {
     "data": {
      "text/html": [
       "<div>\n",
       "<style scoped>\n",
       "    .dataframe tbody tr th:only-of-type {\n",
       "        vertical-align: middle;\n",
       "    }\n",
       "\n",
       "    .dataframe tbody tr th {\n",
       "        vertical-align: top;\n",
       "    }\n",
       "\n",
       "    .dataframe thead th {\n",
       "        text-align: right;\n",
       "    }\n",
       "</style>\n",
       "<table border=\"1\" class=\"dataframe\">\n",
       "  <thead>\n",
       "    <tr style=\"text-align: right;\">\n",
       "      <th></th>\n",
       "      <th>red</th>\n",
       "      <th>blue</th>\n",
       "      <th>label</th>\n",
       "    </tr>\n",
       "  </thead>\n",
       "  <tbody>\n",
       "    <tr>\n",
       "      <th>0</th>\n",
       "      <td>99.342832</td>\n",
       "      <td>146.863646</td>\n",
       "      <td>0</td>\n",
       "    </tr>\n",
       "    <tr>\n",
       "      <th>1</th>\n",
       "      <td>42.561331</td>\n",
       "      <td>42.550760</td>\n",
       "      <td>0</td>\n",
       "    </tr>\n",
       "    <tr>\n",
       "      <th>2</th>\n",
       "      <td>57.817387</td>\n",
       "      <td>69.529757</td>\n",
       "      <td>0</td>\n",
       "    </tr>\n",
       "    <tr>\n",
       "      <th>3</th>\n",
       "      <td>96.806418</td>\n",
       "      <td>121.304978</td>\n",
       "      <td>0</td>\n",
       "    </tr>\n",
       "    <tr>\n",
       "      <th>4</th>\n",
       "      <td>58.278826</td>\n",
       "      <td>71.479754</td>\n",
       "      <td>0</td>\n",
       "    </tr>\n",
       "  </tbody>\n",
       "</table>\n",
       "</div>"
      ],
      "text/plain": [
       "         red        blue  label\n",
       "0  99.342832  146.863646      0\n",
       "1  42.561331   42.550760      0\n",
       "2  57.817387   69.529757      0\n",
       "3  96.806418  121.304978      0\n",
       "4  58.278826   71.479754      0"
      ]
     },
     "execution_count": 14,
     "metadata": {},
     "output_type": "execute_result"
    }
   ],
   "source": [
    "dataset.head()"
   ]
  },
  {
   "cell_type": "code",
   "execution_count": 19,
   "id": "4be20bdc",
   "metadata": {},
   "outputs": [],
   "source": [
    "X, y = dataset.drop(columns=[\"label\"]), dataset[\"label\"]\n",
    "X_chelsea = dataset[dataset['label'] == 0].drop(columns=[\"label\"])\n",
    "X_manchester = dataset[dataset['label'] == 1].drop(columns=[\"label\"])"
   ]
  },
  {
   "cell_type": "code",
   "execution_count": 20,
   "id": "225dc6e4",
   "metadata": {},
   "outputs": [
    {
     "data": {
      "text/html": [
       "<div>\n",
       "<style scoped>\n",
       "    .dataframe tbody tr th:only-of-type {\n",
       "        vertical-align: middle;\n",
       "    }\n",
       "\n",
       "    .dataframe tbody tr th {\n",
       "        vertical-align: top;\n",
       "    }\n",
       "\n",
       "    .dataframe thead th {\n",
       "        text-align: right;\n",
       "    }\n",
       "</style>\n",
       "<table border=\"1\" class=\"dataframe\">\n",
       "  <thead>\n",
       "    <tr style=\"text-align: right;\">\n",
       "      <th></th>\n",
       "      <th>red</th>\n",
       "      <th>blue</th>\n",
       "    </tr>\n",
       "  </thead>\n",
       "  <tbody>\n",
       "    <tr>\n",
       "      <th>0</th>\n",
       "      <td>99.342832</td>\n",
       "      <td>146.863646</td>\n",
       "    </tr>\n",
       "    <tr>\n",
       "      <th>1</th>\n",
       "      <td>42.561331</td>\n",
       "      <td>42.550760</td>\n",
       "    </tr>\n",
       "    <tr>\n",
       "      <th>2</th>\n",
       "      <td>57.817387</td>\n",
       "      <td>69.529757</td>\n",
       "    </tr>\n",
       "    <tr>\n",
       "      <th>3</th>\n",
       "      <td>96.806418</td>\n",
       "      <td>121.304978</td>\n",
       "    </tr>\n",
       "    <tr>\n",
       "      <th>4</th>\n",
       "      <td>58.278826</td>\n",
       "      <td>71.479754</td>\n",
       "    </tr>\n",
       "  </tbody>\n",
       "</table>\n",
       "</div>"
      ],
      "text/plain": [
       "         red        blue\n",
       "0  99.342832  146.863646\n",
       "1  42.561331   42.550760\n",
       "2  57.817387   69.529757\n",
       "3  96.806418  121.304978\n",
       "4  58.278826   71.479754"
      ]
     },
     "execution_count": 20,
     "metadata": {},
     "output_type": "execute_result"
    }
   ],
   "source": [
    "X_chelsea.head()"
   ]
  },
  {
   "cell_type": "code",
   "execution_count": 21,
   "id": "251cc7fc",
   "metadata": {},
   "outputs": [
    {
     "data": {
      "text/html": [
       "<div>\n",
       "<style scoped>\n",
       "    .dataframe tbody tr th:only-of-type {\n",
       "        vertical-align: middle;\n",
       "    }\n",
       "\n",
       "    .dataframe tbody tr th {\n",
       "        vertical-align: top;\n",
       "    }\n",
       "\n",
       "    .dataframe thead th {\n",
       "        text-align: right;\n",
       "    }\n",
       "</style>\n",
       "<table border=\"1\" class=\"dataframe\">\n",
       "  <thead>\n",
       "    <tr style=\"text-align: right;\">\n",
       "      <th></th>\n",
       "      <th>red</th>\n",
       "      <th>blue</th>\n",
       "    </tr>\n",
       "  </thead>\n",
       "  <tbody>\n",
       "    <tr>\n",
       "      <th>65</th>\n",
       "      <td>106.561280</td>\n",
       "      <td>71.205458</td>\n",
       "    </tr>\n",
       "    <tr>\n",
       "      <th>66</th>\n",
       "      <td>124.080669</td>\n",
       "      <td>62.128454</td>\n",
       "    </tr>\n",
       "    <tr>\n",
       "      <th>67</th>\n",
       "      <td>152.855040</td>\n",
       "      <td>101.028829</td>\n",
       "    </tr>\n",
       "    <tr>\n",
       "      <th>68</th>\n",
       "      <td>108.518552</td>\n",
       "      <td>73.549325</td>\n",
       "    </tr>\n",
       "    <tr>\n",
       "      <th>69</th>\n",
       "      <td>164.054403</td>\n",
       "      <td>101.097524</td>\n",
       "    </tr>\n",
       "  </tbody>\n",
       "</table>\n",
       "</div>"
      ],
      "text/plain": [
       "           red        blue\n",
       "65  106.561280   71.205458\n",
       "66  124.080669   62.128454\n",
       "67  152.855040  101.028829\n",
       "68  108.518552   73.549325\n",
       "69  164.054403  101.097524"
      ]
     },
     "execution_count": 21,
     "metadata": {},
     "output_type": "execute_result"
    }
   ],
   "source": [
    "X_manchester.head()"
   ]
  },
  {
   "cell_type": "markdown",
   "id": "451f9d06",
   "metadata": {},
   "source": [
    "# Training Guassian Mixture Models"
   ]
  },
  {
   "cell_type": "code",
   "execution_count": 22,
   "id": "e2b2e013",
   "metadata": {
    "scrolled": false
   },
   "outputs": [
    {
     "data": {
      "text/plain": [
       "GaussianMixture(n_components=2)"
      ]
     },
     "execution_count": 22,
     "metadata": {},
     "output_type": "execute_result"
    }
   ],
   "source": [
    "from sklearn.mixture import GaussianMixture\n",
    "\n",
    "GMM_chelsea = GaussianMixture(n_components=2)\n",
    "GMM_chelsea.fit(X_chelsea)"
   ]
  },
  {
   "cell_type": "code",
   "execution_count": 23,
   "id": "51b3a037",
   "metadata": {},
   "outputs": [
    {
     "data": {
      "text/plain": [
       "GaussianMixture(n_components=2)"
      ]
     },
     "execution_count": 23,
     "metadata": {},
     "output_type": "execute_result"
    }
   ],
   "source": [
    "from sklearn.mixture import GaussianMixture\n",
    "\n",
    "GMM_manchester = GaussianMixture(n_components=2)\n",
    "GMM_manchester.fit(X_manchester)"
   ]
  },
  {
   "cell_type": "code",
   "execution_count": 31,
   "id": "7e652e56",
   "metadata": {
    "scrolled": false
   },
   "outputs": [],
   "source": [
    "import numpy as np\n",
    "from matplotlib.patches import Ellipse\n",
    "\n",
    "def draw_ellipse(position, covariance, ax=None, **kwargs):\n",
    "    ax = ax or plt.gca()\n",
    "\n",
    "    if covariance.shape == (2, 2):\n",
    "        U, s, Vt = np.linalg.svd(covariance)\n",
    "        angle = np.degrees(np.arctan2(U[1, 0], U[0, 0]))\n",
    "        width, height = 2 * np.sqrt(s)\n",
    "    else:\n",
    "        angle = 0\n",
    "        width, height = 2 * np.sqrt(covariance)\n",
    "\n",
    "    for nsig in range(1, 4):\n",
    "        ax.add_patch(Ellipse(position, nsig * width, nsig * height,\n",
    "                             angle, **kwargs))\n"
   ]
  },
  {
   "cell_type": "code",
   "execution_count": 32,
   "id": "db65e7e6",
   "metadata": {},
   "outputs": [
    {
     "data": {
      "image/png": "[encoded data removed]",
      "text/plain": [
       "<Figure size 432x288 with 1 Axes>"
      ]
     },
     "metadata": {
      "needs_background": "light"
     },
     "output_type": "display_data"
    }
   ],
   "source": [
    "import matplotlib.pyplot as plt\n",
    "\n",
    "ax = plt.gca()\n",
    "ax.scatter(X.iloc[:, 0], X.iloc[:, 1], c=y, s=40, cmap='viridis')\n",
    "\n",
    "w_factor_chelsea = 0.2 / GMM_chelsea.weights_.max()\n",
    "w_factor_manchester = 0.2 / GMM_manchester.weights_.max()\n",
    "for pos, covar, w in zip(GMM_chelsea.means_, GMM_chelsea.covariances_, GMM_chelsea.weights_):\n",
    "    draw_ellipse(pos, covar, alpha=w * w_factor_chelsea)\n",
    "for pos, covar, w in zip(GMM_manchester.means_, GMM_manchester.covariances_, GMM_manchester.weights_):\n",
    "    draw_ellipse(pos, covar, alpha=w * w_factor_manchester)"
   ]
  },
  {
   "cell_type": "code",
   "execution_count": 40,
   "id": "9ecd240a",
   "metadata": {
    "scrolled": false
   },
   "outputs": [
    {
     "name": "stderr",
     "output_type": "stream",
     "text": [
      "C:\\Users\\TheRealRondon\\anaconda3\\lib\\site-packages\\sklearn\\cluster\\_kmeans.py:881: UserWarning: KMeans is known to have a memory leak on Windows with MKL, when there are less chunks than available threads. You can avoid it by setting the environment variable OMP_NUM_THREADS=1.\n",
      "  warnings.warn(\n"
     ]
    },
    {
     "data": {
      "image/png": "[encoded data removed]",
      "text/plain": [
       "<Figure size 432x288 with 1 Axes>"
      ]
     },
     "metadata": {
      "needs_background": "light"
     },
     "output_type": "display_data"
    }
   ],
   "source": [
    "n_components = np.arange(1, 31)\n",
    "BIC = np.zeros(n_components.shape)\n",
    "AIC = np.zeros(n_components.shape)\n",
    "\n",
    "for i, n in enumerate(n_components):\n",
    "    GMM = GaussianMixture(n_components=n)\n",
    "    GMM.fit(X_chelsea)\n",
    "    AIC[i] = GMM.aic(X_chelsea)\n",
    "    BIC[i] = GMM.bic(X_chelsea)\n",
    "\n",
    "plt.plot(n_components, AIC, 'b', label='aic')\n",
    "plt.plot(n_components, BIC, 'r', label='bic')\n",
    "plt.title(\"Chelsea\")\n",
    "plt.legend()\n",
    "plt.show()"
   ]
  },
  {
   "cell_type": "code",
   "execution_count": 41,
   "id": "230ee237",
   "metadata": {},
   "outputs": [
    {
     "name": "stderr",
     "output_type": "stream",
     "text": [
      "C:\\Users\\TheRealRondon\\anaconda3\\lib\\site-packages\\sklearn\\cluster\\_kmeans.py:881: UserWarning: KMeans is known to have a memory leak on Windows with MKL, when there are less chunks than available threads. You can avoid it by setting the environment variable OMP_NUM_THREADS=1.\n",
      "  warnings.warn(\n"
     ]
    },
    {
     "data": {
      "image/png": "[encoded data removed]",
      "text/plain": [
       "<Figure size 432x288 with 1 Axes>"
      ]
     },
     "metadata": {
      "needs_background": "light"
     },
     "output_type": "display_data"
    }
   ],
   "source": [
    "n_components = np.arange(1, 31)\n",
    "BIC = np.zeros(n_components.shape)\n",
    "AIC = np.zeros(n_components.shape)\n",
    "\n",
    "for i, n in enumerate(n_components):\n",
    "    GMM = GaussianMixture(n_components=n)\n",
    "    GMM.fit(X_manchester)\n",
    "    AIC[i] = GMM.aic(X_manchester)\n",
    "    BIC[i] = GMM.bic(X_manchester)\n",
    "\n",
    "plt.plot(n_components, AIC, 'b', label='aic')\n",
    "plt.plot(n_components, BIC, 'r', label='bic')\n",
    "plt.title(\"Manchester\")\n",
    "plt.legend()\n",
    "plt.show()"
   ]
  },
  {
   "cell_type": "code",
   "execution_count": 39,
   "id": "3f7e85f0",
   "metadata": {},
   "outputs": [
    {
     "name": "stdout",
     "output_type": "stream",
     "text": [
      "27\n"
     ]
    }
   ],
   "source": [
    "values = (np.array(AIC) + np.array(BIC)) / 2\n",
    "index_min = np.argmin(values)\n",
    "print(index_min)"
   ]
  }
 ],
 "metadata": {
  "kernelspec": {
   "display_name": "Python 3",
   "language": "python",
   "name": "python3"
  },
  "language_info": {
   "codemirror_mode": {
    "name": "ipython",
    "version": 3
   },
   "file_extension": ".py",
   "mimetype": "text/x-python",
   "name": "python",
   "nbconvert_exporter": "python",
   "pygments_lexer": "ipython3",
   "version": "3.8.10"
  }
 },
 "nbformat": 4,
 "nbformat_minor": 5
}
