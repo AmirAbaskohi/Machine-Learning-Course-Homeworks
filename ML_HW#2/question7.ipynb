{
 "cells": [
  {
   "cell_type": "code",
   "execution_count": 14,
   "id": "defd19bd",
   "metadata": {},
   "outputs": [],
   "source": [
    "import pandas as pd\n",
    "\n",
    "df = pd.read_csv('./Breast_cancer_data.csv')"
   ]
  },
  {
   "cell_type": "code",
   "execution_count": 15,
   "id": "636f71b8",
   "metadata": {},
   "outputs": [
    {
     "name": "stdout",
     "output_type": "stream",
     "text": [
      "                 mean_radius  mean_texture  mean_perimeter  mean_area  \\\n",
      "mean_radius         1.000000      0.323782        0.997855   0.987357   \n",
      "mean_texture        0.323782      1.000000        0.329533   0.321086   \n",
      "mean_perimeter      0.997855      0.329533        1.000000   0.986507   \n",
      "mean_area           0.987357      0.321086        0.986507   1.000000   \n",
      "mean_smoothness     0.170581     -0.023389        0.207278   0.177028   \n",
      "diagnosis          -0.730029     -0.415185       -0.742636  -0.708984   \n",
      "\n",
      "                 mean_smoothness  diagnosis  \n",
      "mean_radius             0.170581  -0.730029  \n",
      "mean_texture           -0.023389  -0.415185  \n",
      "mean_perimeter          0.207278  -0.742636  \n",
      "mean_area               0.177028  -0.708984  \n",
      "mean_smoothness         1.000000  -0.358560  \n",
      "diagnosis              -0.358560   1.000000  \n"
     ]
    },
    {
     "data": {
      "text/plain": [
       "<AxesSubplot:>"
      ]
     },
     "execution_count": 15,
     "metadata": {},
     "output_type": "execute_result"
    },
    {
     "data": {
      "image/png": "[encoded data removed]",
      "text/plain": [
       "<Figure size 432x288 with 2 Axes>"
      ]
     },
     "metadata": {
      "needs_background": "light"
     },
     "output_type": "display_data"
    }
   ],
   "source": [
    "import seaborn as sns\n",
    "\n",
    "print(df.corr())\n",
    "sns.heatmap(df.corr())"
   ]
  },
  {
   "cell_type": "code",
   "execution_count": 16,
   "id": "2b9aa24c",
   "metadata": {},
   "outputs": [],
   "source": [
    "df.drop(columns=['mean_perimeter', 'mean_area'], inplace=True)"
   ]
  },
  {
   "cell_type": "code",
   "execution_count": 17,
   "id": "c6998efd",
   "metadata": {},
   "outputs": [
    {
     "name": "stdout",
     "output_type": "stream",
     "text": [
      "<class 'pandas.core.frame.DataFrame'>\n",
      "RangeIndex: 569 entries, 0 to 568\n",
      "Data columns (total 4 columns):\n",
      " #   Column           Non-Null Count  Dtype  \n",
      "---  ------           --------------  -----  \n",
      " 0   mean_radius      569 non-null    float64\n",
      " 1   mean_texture     569 non-null    float64\n",
      " 2   mean_smoothness  569 non-null    float64\n",
      " 3   diagnosis        569 non-null    int64  \n",
      "dtypes: float64(3), int64(1)\n",
      "memory usage: 17.9 KB\n"
     ]
    }
   ],
   "source": [
    "df.info()"
   ]
  },
  {
   "cell_type": "code",
   "execution_count": 18,
   "id": "6ea36cea",
   "metadata": {},
   "outputs": [],
   "source": [
    "X ,y = df.drop(columns=['diagnosis']), df['diagnosis']"
   ]
  },
  {
   "cell_type": "code",
   "execution_count": 19,
   "id": "426bc254",
   "metadata": {},
   "outputs": [],
   "source": [
    "X = (X - X.mean()) / X.std()"
   ]
  },
  {
   "cell_type": "code",
   "execution_count": 20,
   "id": "8dc153a1",
   "metadata": {},
   "outputs": [
    {
     "data": {
      "text/html": [
       "<div>\n",
       "<style scoped>\n",
       "    .dataframe tbody tr th:only-of-type {\n",
       "        vertical-align: middle;\n",
       "    }\n",
       "\n",
       "    .dataframe tbody tr th {\n",
       "        vertical-align: top;\n",
       "    }\n",
       "\n",
       "    .dataframe thead th {\n",
       "        text-align: right;\n",
       "    }\n",
       "</style>\n",
       "<table border=\"1\" class=\"dataframe\">\n",
       "  <thead>\n",
       "    <tr style=\"text-align: right;\">\n",
       "      <th></th>\n",
       "      <th>mean_radius</th>\n",
       "      <th>mean_texture</th>\n",
       "      <th>mean_smoothness</th>\n",
       "    </tr>\n",
       "  </thead>\n",
       "  <tbody>\n",
       "    <tr>\n",
       "      <th>0</th>\n",
       "      <td>1.096100</td>\n",
       "      <td>-2.071512</td>\n",
       "      <td>1.567087</td>\n",
       "    </tr>\n",
       "    <tr>\n",
       "      <th>1</th>\n",
       "      <td>1.828212</td>\n",
       "      <td>-0.353322</td>\n",
       "      <td>-0.826235</td>\n",
       "    </tr>\n",
       "    <tr>\n",
       "      <th>2</th>\n",
       "      <td>1.578499</td>\n",
       "      <td>0.455786</td>\n",
       "      <td>0.941382</td>\n",
       "    </tr>\n",
       "    <tr>\n",
       "      <th>3</th>\n",
       "      <td>-0.768233</td>\n",
       "      <td>0.253509</td>\n",
       "      <td>3.280667</td>\n",
       "    </tr>\n",
       "    <tr>\n",
       "      <th>4</th>\n",
       "      <td>1.748758</td>\n",
       "      <td>-1.150804</td>\n",
       "      <td>0.280125</td>\n",
       "    </tr>\n",
       "  </tbody>\n",
       "</table>\n",
       "</div>"
      ],
      "text/plain": [
       "   mean_radius  mean_texture  mean_smoothness\n",
       "0     1.096100     -2.071512         1.567087\n",
       "1     1.828212     -0.353322        -0.826235\n",
       "2     1.578499      0.455786         0.941382\n",
       "3    -0.768233      0.253509         3.280667\n",
       "4     1.748758     -1.150804         0.280125"
      ]
     },
     "execution_count": 20,
     "metadata": {},
     "output_type": "execute_result"
    }
   ],
   "source": [
    "X.head()"
   ]
  },
  {
   "cell_type": "code",
   "execution_count": 21,
   "id": "bea0172d",
   "metadata": {},
   "outputs": [],
   "source": [
    "def train_test_split(dataset, sizes = [0.8, 0.2], shuffle = True):\n",
    "    if shuffle:\n",
    "        dataset = dataset.sample(frac = 1, random_state = 42).reset_index(drop=True)\n",
    "    return dataset.iloc[:int(sizes[0] * len(dataset))].reset_index(drop=True), dataset.iloc[int(sizes[0] * len(dataset)):].reset_index(drop=True)\n",
    "\n",
    "train, test = train_test_split(df)"
   ]
  },
  {
   "cell_type": "code",
   "execution_count": 22,
   "id": "ebe821ed",
   "metadata": {},
   "outputs": [],
   "source": [
    "X_tain, y_train = train.drop(columns=['diagnosis']), train['diagnosis']\n",
    "X_test, y_test = test.drop(columns=['diagnosis']), test['diagnosis']"
   ]
  },
  {
   "cell_type": "code",
   "execution_count": 37,
   "id": "03e39b27",
   "metadata": {},
   "outputs": [],
   "source": [
    "import numpy as np\n",
    "from numpy.linalg import inv, det\n",
    "\n",
    "class Model:\n",
    "    def __init__(self):\n",
    "        self.mu0 = self.mu1 = 0\n",
    "        self.cov_matrix0 = self.cov_matrix1 = 0\n",
    "        self.num_of_features = 0\n",
    "        self.pw0 = self.pw1 = 0\n",
    "        \n",
    "    def fit(self, df):\n",
    "        self.num_of_features = len(df.columns) - 1\n",
    "        \n",
    "        self.pw0 = len(df[df['diagnosis'] == 0]) / len(df)\n",
    "        self.pw1 = len(df[df['diagnosis'] == 1]) / len(df)\n",
    "        \n",
    "        self.mu0 = df[df['diagnosis'] == 0].drop(columns=['diagnosis']).mean()\n",
    "        self.mu1 = df[df['diagnosis'] == 1].drop(columns=['diagnosis']).mean()\n",
    "        \n",
    "        self.cov_matrix0 = df[df['diagnosis'] == 0].drop(columns=['diagnosis']).cov().to_numpy()\n",
    "        self.cov_matrix1 = df[df['diagnosis'] == 0].drop(columns=['diagnosis']).cov().to_numpy()\n",
    "        \n",
    "        self.mu0 = np.reshape(np.array(self.mu0), (self.num_of_features, 1))\n",
    "        self.mu1 = np.reshape(np.array(self.mu1), (self.num_of_features, 1))\n",
    "        self.cov_matrix0 = np.reshape(np.array(self.cov_matrix0), (self.num_of_features, self.num_of_features))\n",
    "        self.cov_matrix1 = np.reshape(np.array(self.cov_matrix1), (self.num_of_features, self.num_of_features))\n",
    "        \n",
    "    def g_function(self, x, mu, covariance_matrix, pw):\n",
    "        return -(0.5) * (x - mu).T.dot(inv(covariance_matrix)).dot((x - mu)) + -(0.5) * np.log(det(covariance_matrix)) + np.log(pw)\n",
    "        \n",
    "    def predict(self, X):\n",
    "        predicts = []\n",
    "        for i in range(len(X)):\n",
    "            x = np.reshape(np.array(X.iloc[i]), (self.num_of_features, 1))\n",
    "            if (self.g_function(x, self.mu0, self.cov_matrix0, self.pw0) > self.g_function(x, self.mu1, self.cov_matrix1, self.pw1)):\n",
    "                predicts.append(0)\n",
    "            else:\n",
    "                predicts.append(1)\n",
    "        return predicts"
   ]
  },
  {
   "cell_type": "code",
   "execution_count": 38,
   "id": "37fe0ddf",
   "metadata": {},
   "outputs": [],
   "source": [
    "model = Model()\n",
    "model.fit(train)\n",
    "predicts = model.predict(X_test)"
   ]
  },
  {
   "cell_type": "code",
   "execution_count": 40,
   "id": "85aa8e4d",
   "metadata": {},
   "outputs": [],
   "source": [
    "TP = 0\n",
    "TN = 0\n",
    "FP = 0\n",
    "FN = 0\n",
    "\n",
    "for i in range(len(y_test)):\n",
    "    if y_test.iloc[i] == 1 and predicts[i] == 1:\n",
    "        TP += 1\n",
    "    elif y_test.iloc[i] == 1 and predicts[i] == 0:\n",
    "        FN += 1\n",
    "    elif y_test.iloc[i] == 0 and predicts[i] == 1:\n",
    "        FP += 1\n",
    "    else:\n",
    "        TN += 1"
   ]
  },
  {
   "cell_type": "code",
   "execution_count": 44,
   "id": "c0786dba",
   "metadata": {},
   "outputs": [
    {
     "name": "stdout",
     "output_type": "stream",
     "text": [
      "+--------------------+----------+----------+\n",
      "| Actual | Predicted | Positive | Negative |\n",
      "+--------------------+----------+----------+\n",
      "| Positive           | 62       | 5        |\n",
      "+--------------------+----------+----------+\n",
      "| Negative           | 13       | 34       |\n",
      "+--------------------+----------+----------+\n"
     ]
    }
   ],
   "source": [
    "from texttable import Texttable\n",
    "\n",
    "table = Texttable()\n",
    "table.add_row(['Actual | Predicted', 'Positive', 'Negative'])\n",
    "table.add_row(['Positive', str(TP), str(FN)])\n",
    "table.add_row(['Negative', str(FP), str(TN)])\n",
    "print(table.draw())"
   ]
  },
  {
   "cell_type": "code",
   "execution_count": 45,
   "id": "d7ab76ae",
   "metadata": {},
   "outputs": [
    {
     "name": "stdout",
     "output_type": "stream",
     "text": [
      "Accuracy: 0.8421052631578947\n"
     ]
    }
   ],
   "source": [
    "accuracy = (TP + TN) / (TP + TN + FP + FN)\n",
    "print(f\"Accuracy: {accuracy}\")"
   ]
  },
  {
   "cell_type": "code",
   "execution_count": 49,
   "id": "264f6f64",
   "metadata": {},
   "outputs": [],
   "source": [
    "from sklearn.naive_bayes import GaussianNB\n",
    "\n",
    "model = GaussianNB()\n",
    "model.fit(X_tain, y_train)\n",
    "\n",
    "predicts = model.predict(X_test)"
   ]
  },
  {
   "cell_type": "code",
   "execution_count": 52,
   "id": "961a8d61",
   "metadata": {},
   "outputs": [],
   "source": [
    "TP = 0\n",
    "TN = 0\n",
    "FP = 0\n",
    "FN = 0\n",
    "\n",
    "for i in range(len(y_test)):\n",
    "    if y_test.iloc[i] == 1 and predicts[i] == 1:\n",
    "        TP += 1\n",
    "    elif y_test.iloc[i] == 1 and predicts[i] == 0:\n",
    "        FN += 1\n",
    "    elif y_test.iloc[i] == 0 and predicts[i] == 1:\n",
    "        FP += 1\n",
    "    else:\n",
    "        TN += 1"
   ]
  },
  {
   "cell_type": "code",
   "execution_count": 53,
   "id": "9e71584d",
   "metadata": {},
   "outputs": [
    {
     "name": "stdout",
     "output_type": "stream",
     "text": [
      "+--------------------+----------+----------+\n",
      "| Actual | Predicted | Positive | Negative |\n",
      "+--------------------+----------+----------+\n",
      "| Positive           | 62       | 5        |\n",
      "+--------------------+----------+----------+\n",
      "| Negative           | 12       | 35       |\n",
      "+--------------------+----------+----------+\n"
     ]
    }
   ],
   "source": [
    "table = Texttable()\n",
    "table.add_row(['Actual | Predicted', 'Positive', 'Negative'])\n",
    "table.add_row(['Positive', str(TP), str(FN)])\n",
    "table.add_row(['Negative', str(FP), str(TN)])\n",
    "print(table.draw())"
   ]
  },
  {
   "cell_type": "code",
   "execution_count": 54,
   "id": "c799a26d",
   "metadata": {},
   "outputs": [
    {
     "name": "stdout",
     "output_type": "stream",
     "text": [
      "Accuracy: 0.8508771929824561\n"
     ]
    }
   ],
   "source": [
    "accuracy = (TP + TN) / (TP + TN + FP + FN)\n",
    "print(f\"Accuracy: {accuracy}\")"
   ]
  }
 ],
 "metadata": {
  "kernelspec": {
   "display_name": "Python 3",
   "language": "python",
   "name": "python3"
  },
  "language_info": {
   "codemirror_mode": {
    "name": "ipython",
    "version": 3
   },
   "file_extension": ".py",
   "mimetype": "text/x-python",
   "name": "python",
   "nbconvert_exporter": "python",
   "pygments_lexer": "ipython3",
   "version": "3.8.10"
  }
 },
 "nbformat": 4,
 "nbformat_minor": 5
}
