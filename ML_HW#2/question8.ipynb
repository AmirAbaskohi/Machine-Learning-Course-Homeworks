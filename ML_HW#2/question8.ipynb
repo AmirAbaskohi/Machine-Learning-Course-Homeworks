{
 "cells": [
  {
   "cell_type": "code",
   "execution_count": 1,
   "id": "af0ddd26",
   "metadata": {},
   "outputs": [],
   "source": [
    "import pandas as pd\n",
    "import numpy as np\n",
    "\n",
    "df = pd.read_csv('Class_A.csv', header = None)"
   ]
  },
  {
   "cell_type": "code",
   "execution_count": 2,
   "id": "3771d91c",
   "metadata": {},
   "outputs": [
    {
     "data": {
      "text/html": [
       "<div>\n",
       "<style scoped>\n",
       "    .dataframe tbody tr th:only-of-type {\n",
       "        vertical-align: middle;\n",
       "    }\n",
       "\n",
       "    .dataframe tbody tr th {\n",
       "        vertical-align: top;\n",
       "    }\n",
       "\n",
       "    .dataframe thead th {\n",
       "        text-align: right;\n",
       "    }\n",
       "</style>\n",
       "<table border=\"1\" class=\"dataframe\">\n",
       "  <thead>\n",
       "    <tr style=\"text-align: right;\">\n",
       "      <th></th>\n",
       "      <th>x</th>\n",
       "      <th>y</th>\n",
       "      <th>label</th>\n",
       "    </tr>\n",
       "  </thead>\n",
       "  <tbody>\n",
       "    <tr>\n",
       "      <th>0</th>\n",
       "      <td>0.459694</td>\n",
       "      <td>-0.470583</td>\n",
       "      <td>0.0</td>\n",
       "    </tr>\n",
       "    <tr>\n",
       "      <th>1</th>\n",
       "      <td>0.797385</td>\n",
       "      <td>-0.343030</td>\n",
       "      <td>0.0</td>\n",
       "    </tr>\n",
       "    <tr>\n",
       "      <th>2</th>\n",
       "      <td>0.235270</td>\n",
       "      <td>0.961296</td>\n",
       "      <td>0.0</td>\n",
       "    </tr>\n",
       "    <tr>\n",
       "      <th>3</th>\n",
       "      <td>0.765453</td>\n",
       "      <td>-0.177644</td>\n",
       "      <td>0.0</td>\n",
       "    </tr>\n",
       "    <tr>\n",
       "      <th>4</th>\n",
       "      <td>-0.335577</td>\n",
       "      <td>-0.313893</td>\n",
       "      <td>0.0</td>\n",
       "    </tr>\n",
       "  </tbody>\n",
       "</table>\n",
       "</div>"
      ],
      "text/plain": [
       "          x         y  label\n",
       "0  0.459694 -0.470583    0.0\n",
       "1  0.797385 -0.343030    0.0\n",
       "2  0.235270  0.961296    0.0\n",
       "3  0.765453 -0.177644    0.0\n",
       "4 -0.335577 -0.313893    0.0"
      ]
     },
     "execution_count": 2,
     "metadata": {},
     "output_type": "execute_result"
    }
   ],
   "source": [
    "df.rename(columns={0: \"x\", 1: \"y\", 2: \"label\"}, inplace=True)\n",
    "df.head()"
   ]
  },
  {
   "cell_type": "code",
   "execution_count": 3,
   "id": "3cb23bb5",
   "metadata": {},
   "outputs": [
    {
     "data": {
      "text/html": [
       "<div>\n",
       "<style scoped>\n",
       "    .dataframe tbody tr th:only-of-type {\n",
       "        vertical-align: middle;\n",
       "    }\n",
       "\n",
       "    .dataframe tbody tr th {\n",
       "        vertical-align: top;\n",
       "    }\n",
       "\n",
       "    .dataframe thead th {\n",
       "        text-align: right;\n",
       "    }\n",
       "</style>\n",
       "<table border=\"1\" class=\"dataframe\">\n",
       "  <thead>\n",
       "    <tr style=\"text-align: right;\">\n",
       "      <th></th>\n",
       "      <th>x</th>\n",
       "      <th>y</th>\n",
       "      <th>label</th>\n",
       "      <th>x2</th>\n",
       "      <th>y2</th>\n",
       "      <th>xy</th>\n",
       "    </tr>\n",
       "  </thead>\n",
       "  <tbody>\n",
       "    <tr>\n",
       "      <th>0</th>\n",
       "      <td>0.459694</td>\n",
       "      <td>-0.470583</td>\n",
       "      <td>0.0</td>\n",
       "      <td>0.211319</td>\n",
       "      <td>0.221449</td>\n",
       "      <td>-0.216324</td>\n",
       "    </tr>\n",
       "    <tr>\n",
       "      <th>1</th>\n",
       "      <td>0.797385</td>\n",
       "      <td>-0.343030</td>\n",
       "      <td>0.0</td>\n",
       "      <td>0.635823</td>\n",
       "      <td>0.117670</td>\n",
       "      <td>-0.273527</td>\n",
       "    </tr>\n",
       "    <tr>\n",
       "      <th>2</th>\n",
       "      <td>0.235270</td>\n",
       "      <td>0.961296</td>\n",
       "      <td>0.0</td>\n",
       "      <td>0.055352</td>\n",
       "      <td>0.924089</td>\n",
       "      <td>0.226164</td>\n",
       "    </tr>\n",
       "    <tr>\n",
       "      <th>3</th>\n",
       "      <td>0.765453</td>\n",
       "      <td>-0.177644</td>\n",
       "      <td>0.0</td>\n",
       "      <td>0.585918</td>\n",
       "      <td>0.031557</td>\n",
       "      <td>-0.135978</td>\n",
       "    </tr>\n",
       "    <tr>\n",
       "      <th>4</th>\n",
       "      <td>-0.335577</td>\n",
       "      <td>-0.313893</td>\n",
       "      <td>0.0</td>\n",
       "      <td>0.112612</td>\n",
       "      <td>0.098529</td>\n",
       "      <td>0.105335</td>\n",
       "    </tr>\n",
       "  </tbody>\n",
       "</table>\n",
       "</div>"
      ],
      "text/plain": [
       "          x         y  label        x2        y2        xy\n",
       "0  0.459694 -0.470583    0.0  0.211319  0.221449 -0.216324\n",
       "1  0.797385 -0.343030    0.0  0.635823  0.117670 -0.273527\n",
       "2  0.235270  0.961296    0.0  0.055352  0.924089  0.226164\n",
       "3  0.765453 -0.177644    0.0  0.585918  0.031557 -0.135978\n",
       "4 -0.335577 -0.313893    0.0  0.112612  0.098529  0.105335"
      ]
     },
     "execution_count": 3,
     "metadata": {},
     "output_type": "execute_result"
    }
   ],
   "source": [
    "df[\"x2\"] = df[\"x\"]*df[\"x\"]\n",
    "df[\"y2\"] = df[\"y\"]*df[\"y\"]\n",
    "df[\"xy\"] = df[\"x\"]*df[\"y\"]\n",
    "df.head()"
   ]
  },
  {
   "cell_type": "code",
   "execution_count": 4,
   "id": "662ec1a4",
   "metadata": {},
   "outputs": [],
   "source": [
    "from sklearn.model_selection import train_test_split\n",
    "\n",
    "X_train, X_test, y_train, y_test = train_test_split(df[[\"x\", \"y\", \"x2\", \"xy\", \"y2\"]], df[\"label\"], test_size=0.2, random_state=1234)"
   ]
  },
  {
   "cell_type": "code",
   "execution_count": 5,
   "id": "49323ef1",
   "metadata": {},
   "outputs": [],
   "source": [
    "class LogisticRegression:\n",
    "\n",
    "    def __init__(self, lr=0.001, n_iters=1000):\n",
    "        self.lr = lr\n",
    "        self.n_iters = n_iters\n",
    "        self.weights = None\n",
    "        self.bias = None\n",
    "\n",
    "    def fit(self, X, y):\n",
    "        n_samples, n_features = X.shape\n",
    "\n",
    "        self.weights = np.zeros(n_features)\n",
    "        self.bias = 0\n",
    "        \n",
    "        for _ in range(self.n_iters):\n",
    "            linear_model = np.dot(X, self.weights) + self.bias\n",
    "            y_predicted = self._sigmoid(linear_model)\n",
    "\n",
    "            dw = (1 / n_samples) * np.dot(X.T, (y_predicted - y))\n",
    "            db = (1 / n_samples) * np.sum(y_predicted - y)\n",
    "            \n",
    "            if (_ == self.n_iters-1):\n",
    "                print(dw)\n",
    "                print(db)\n",
    "\n",
    "            self.weights -= self.lr * dw\n",
    "            self.bias -= self.lr * db\n",
    "\n",
    "    def predict(self, X):\n",
    "        linear_model = np.dot(X, self.weights) + self.bias\n",
    "        y_predicted = self._sigmoid(linear_model)\n",
    "        y_predicted_cls = [1 if i > 0.5 else 0 for i in y_predicted]\n",
    "        return np.array(y_predicted_cls)\n",
    "\n",
    "    def _sigmoid(self, x):\n",
    "        return 1 / (1 + np.exp(-x))"
   ]
  },
  {
   "cell_type": "code",
   "execution_count": 6,
   "id": "2f2c4de2",
   "metadata": {},
   "outputs": [
    {
     "name": "stdout",
     "output_type": "stream",
     "text": [
      "[ 0.00022925  0.00213674 -0.0608664   0.00542881 -0.06718081]\n",
      "0.08676351396375065\n"
     ]
    }
   ],
   "source": [
    "regressor = LogisticRegression(lr=0.001, n_iters=10000)\n",
    "regressor.fit(X_train, y_train)"
   ]
  },
  {
   "cell_type": "code",
   "execution_count": 7,
   "id": "36d2f86a",
   "metadata": {},
   "outputs": [],
   "source": [
    "predictions = regressor.predict(X_test)"
   ]
  },
  {
   "cell_type": "code",
   "execution_count": 8,
   "id": "41eb6af5",
   "metadata": {},
   "outputs": [],
   "source": [
    "TP = 0\n",
    "TN = 0\n",
    "FP = 0\n",
    "FN = 0\n",
    "\n",
    "for i in range(len(predictions)):\n",
    "    if predictions[i] == y_test.iloc[i] and predictions[i] == 1:\n",
    "        TP += 1\n",
    "    elif predictions[i] == y_test.iloc[i] and predictions[i] == 0:\n",
    "        TN += 1\n",
    "    elif predictions[i] != y_test.iloc[i] and predictions[i] == 1:\n",
    "        FP += 1\n",
    "    else:\n",
    "        FN += 1"
   ]
  },
  {
   "cell_type": "code",
   "execution_count": 9,
   "id": "22056b50",
   "metadata": {},
   "outputs": [
    {
     "name": "stdout",
     "output_type": "stream",
     "text": [
      "                      Actual Positive    Acutal Negative\n",
      "------------------  -----------------  -----------------\n",
      "Predicted Positive                 23                  1\n",
      "Predicted Negative                  0                 16\n"
     ]
    }
   ],
   "source": [
    "from tabulate import tabulate\n",
    "print(tabulate([['Predicted Positive', TP, FP], ['Predicted Negative', FN, TN]], headers=['', 'Actual Positive', 'Acutal Negative']))"
   ]
  },
  {
   "cell_type": "code",
   "execution_count": 10,
   "id": "19df29fa",
   "metadata": {},
   "outputs": [
    {
     "name": "stdout",
     "output_type": "stream",
     "text": [
      "Precision is: 0.9583333333333334\n",
      "Recall is: 1.0\n",
      "Accuracy is: 0.975\n"
     ]
    }
   ],
   "source": [
    "print(f'Precision is: {(TP)/(TP + FP)}')\n",
    "print(f'Recall is: {(TP)/(TP + FN)}')\n",
    "print(f'Accuracy is: {(TP + TN)/(TP + TN + FP + FN)}')"
   ]
  },
  {
   "cell_type": "code",
   "execution_count": 15,
   "id": "d3d852ae",
   "metadata": {},
   "outputs": [],
   "source": [
    "x_min, x_max = df['x'].min() - 1, df['x'].max() + 1\n",
    "y_min, y_max = df['y'].min() - 1, df['y'].max() + 1\n",
    "xx, yy = np.meshgrid(np.arange(x_min, x_max, 0.1), np.arange(y_min, y_max, 0.1))\n",
    "Z = regressor.predict(np.c_[xx.ravel(), yy.ravel(),\n",
    "                            xx.ravel()**2, xx.ravel() * yy.ravel(),\n",
    "                            yy.ravel()**2])\n",
    "Z = Z.reshape(xx.shape)"
   ]
  },
  {
   "cell_type": "code",
   "execution_count": 16,
   "id": "7546120e",
   "metadata": {},
   "outputs": [
    {
     "name": "stderr",
     "output_type": "stream",
     "text": [
      "<ipython-input-16-c5cf227018de>:5: UserWarning: No contour levels were found within the data range.\n",
      "  plt.contour(xx, yy, Z, levels=[0], cmap=\"Greys_r\")\n"
     ]
    },
    {
     "data": {
      "image/png": "[encoded data removed]",
      "text/plain": [
       "<Figure size 432x288 with 1 Axes>"
      ]
     },
     "metadata": {
      "needs_background": "light"
     },
     "output_type": "display_data"
    }
   ],
   "source": [
    "from matplotlib import pyplot as plt\n",
    "  \n",
    "plt.scatter(df.loc[df['label']==0][\"x\"], df.loc[df['label']==0][\"y\"], color='red')\n",
    "plt.scatter(df.loc[df['label']==1][\"x\"], df.loc[df['label']==1][\"y\"], color='blue')\n",
    "plt.contour(xx, yy, Z, levels=[0], cmap=\"Greys_r\")\n",
    "plt.ylabel(\"Y\")\n",
    "plt.xlabel(\"X\")\n",
    "plt.title(\"Class_A Data\")\n",
    "  \n",
    "plt.show()"
   ]
  }
 ],
 "metadata": {
  "kernelspec": {
   "display_name": "Python 3",
   "language": "python",
   "name": "python3"
  },
  "language_info": {
   "codemirror_mode": {
    "name": "ipython",
    "version": 3
   },
   "file_extension": ".py",
   "mimetype": "text/x-python",
   "name": "python",
   "nbconvert_exporter": "python",
   "pygments_lexer": "ipython3",
   "version": "3.8.10"
  }
 },
 "nbformat": 4,
 "nbformat_minor": 5
}
